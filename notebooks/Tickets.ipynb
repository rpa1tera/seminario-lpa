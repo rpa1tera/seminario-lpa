{
 "cells": [
  {
   "cell_type": "code",
   "execution_count": 21,
   "id": "21982aae",
   "metadata": {},
   "outputs": [],
   "source": [
    "# Imports\n",
    "import pandas as pd\n",
    "import numpy as np\n",
    "import re\n",
    "import matplotlib.pyplot as plt\n",
    "import seaborn as sns\n",
    "\n",
    "from sklearn.model_selection import train_test_split\n",
    "from sklearn.feature_extraction.text import TfidfVectorizer\n",
    "from sklearn.ensemble import RandomForestClassifier\n",
    "from sklearn.metrics import classification_report, confusion_matrix\n",
    "from sklearn.preprocessing import LabelEncoder\n",
    "\n",
    "import nltk\n",
    "from nltk.corpus import stopwords"
   ]
  },
  {
   "cell_type": "code",
   "execution_count": 22,
   "id": "9c1a4a0d",
   "metadata": {},
   "outputs": [
    {
     "name": "stdout",
     "output_type": "stream",
     "text": [
      "Arquivo lido com sucesso!\n"
     ]
    }
   ],
   "source": [
    "# ===============================\n",
    "# 1. Carregar o arquivo\n",
    "# ===============================\n",
    "file_path = '../data/tickets_movidesk_urgencia.xlsx'\n",
    "\n",
    "try:\n",
    "    df = pd.read_excel(file_path)\n",
    "    print(\"Arquivo lido com sucesso!\")\n",
    "except FileNotFoundError:\n",
    "    print(f\"ERRO: Arquivo não encontrado no caminho especificado: {file_path}\")\n",
    "except Exception as e:\n",
    "    print(f\"Ocorreu um erro ao ler o arquivo: {e}\")"
   ]
  },
  {
   "cell_type": "code",
   "execution_count": 23,
   "id": "35c810dd",
   "metadata": {},
   "outputs": [],
   "source": [
    "# ===============================\n",
    "# 2. Limpeza inicial\n",
    "# ===============================\n",
    "df.dropna(subset=['Urgência', 'Texto Inicial'], inplace=True)\n",
    "df = df[df['Urgência'].isin(['Urgente', 'Alta', 'Média', 'Baixa'])]"
   ]
  },
  {
   "cell_type": "code",
   "execution_count": 24,
   "id": "6c4d709e",
   "metadata": {},
   "outputs": [],
   "source": [
    "# ===============================\n",
    "# 3. Função de limpeza de texto\n",
    "# ===============================\n",
    "def limpar_texto(texto):\n",
    "    texto = str(texto).lower()\n",
    "    texto = re.sub(r'\\b(bom dia|boa tarde|olá|tudo bem|att|obrigado).*?\\b', '', texto)\n",
    "    texto = re.sub(r'[^\\w\\s]', '', texto)\n",
    "    texto = re.sub(r'\\s+', ' ', texto).strip()\n",
    "    return texto"
   ]
  },
  {
   "cell_type": "code",
   "execution_count": 25,
   "id": "99cc8969",
   "metadata": {},
   "outputs": [],
   "source": [
    "# ===============================\n",
    "# 4. Aplicar a limpeza\n",
    "# ===============================\n",
    "df['Texto Inicial Limpo'] = df['Texto Inicial'].apply(limpar_texto)\n",
    "df['Assunto Limpo'] = df['Assunto'].apply(limpar_texto)"
   ]
  },
  {
   "cell_type": "code",
   "execution_count": 26,
   "id": "d2d422a0",
   "metadata": {},
   "outputs": [],
   "source": [
    "\n",
    "# ===============================\n",
    "# 5. Criar coluna combinada\n",
    "# ===============================\n",
    "df['TextoCombinado'] = (\n",
    "    df['Texto Inicial Limpo'].fillna('') + ' ' +\n",
    "    df['Assunto Limpo'].fillna('') + ' ' +\n",
    "    df['Categoria'].fillna('') + ' ' +\n",
    "    df['Serviço'].fillna('')\n",
    ")"
   ]
  },
  {
   "cell_type": "code",
   "execution_count": 27,
   "id": "c8927467",
   "metadata": {},
   "outputs": [],
   "source": [
    "# ===============================\n",
    "# 6. Codificar rótulos de urgência\n",
    "# ===============================\n",
    "label_map = {'Baixa': 0, 'Média': 1, 'Alta': 2, 'Urgente': 3}\n",
    "df['Urgência_Label'] = df['Urgência'].map(label_map)"
   ]
  },
  {
   "cell_type": "code",
   "execution_count": 28,
   "id": "5ce4d6eb",
   "metadata": {},
   "outputs": [
    {
     "name": "stderr",
     "output_type": "stream",
     "text": [
      "/var/folders/w0/q0_v_jmj1wb_4dygr_mj6gd00000gn/T/ipykernel_61655/3054128898.py:7: FutureWarning: \n",
      "\n",
      "Passing `palette` without assigning `hue` is deprecated and will be removed in v0.14.0. Assign the `x` variable to `hue` and set `legend=False` for the same effect.\n",
      "\n",
      "  sns.countplot(data=df, x='Urgência', order=urgencia_counts.index, palette='crest')\n"
     ]
    },
    {
     "data": {
      "image/png": "[encoded data removed]",
      "text/plain": [
       "<Figure size 800x500 with 1 Axes>"
      ]
     },
     "metadata": {},
     "output_type": "display_data"
    }
   ],
   "source": [
    "# ===============================\n",
    "# 7. Visualização da distribuição\n",
    "# ===============================\n",
    "urgencia_counts = df['Urgência'].value_counts()\n",
    "\n",
    "plt.figure(figsize=(8, 5))\n",
    "sns.countplot(data=df, x='Urgência', order=urgencia_counts.index, palette='crest')\n",
    "plt.title('Distribuição de Tickets por Urgência')\n",
    "plt.xlabel('Urgência')\n",
    "plt.ylabel('Quantidade')\n",
    "plt.grid(axis='y', linestyle='--', alpha=0.4)\n",
    "plt.tight_layout()\n",
    "plt.show()"
   ]
  },
  {
   "cell_type": "code",
   "execution_count": 29,
   "id": "68365cda",
   "metadata": {},
   "outputs": [
    {
     "name": "stderr",
     "output_type": "stream",
     "text": [
      "[nltk_data] Downloading package stopwords to\n",
      "[nltk_data]     /Users/camillarodrigues/nltk_data...\n",
      "[nltk_data]   Unzipping corpora/stopwords.zip.\n"
     ]
    }
   ],
   "source": [
    "# ===============================\n",
    "# 8. Vetorização do texto\n",
    "# ===============================\n",
    "\n",
    "nltk.download('stopwords')\n",
    "\n",
    "# Criar a lista de stopwords personalizadas\n",
    "stopwords_pt = stopwords.words('portuguese')\n",
    "stopwords_pt.extend(['urgente', 'problema', 'atendimento'])  # pode ajustar depois se quiser\n",
    "\n",
    "# Vetorizador TF-IDF com as stopwords em português\n",
    "vectorizer = TfidfVectorizer(max_features=3000, stop_words=stopwords_pt)\n",
    "\n",
    "# Aplicar a transformação no texto combinado\n",
    "X = vectorizer.fit_transform(df['TextoCombinado'])\n",
    "\n",
    "# Variável alvo\n",
    "y = df['Urgência_Label']\n"
   ]
  },
  {
   "cell_type": "code",
   "execution_count": 30,
   "id": "9794521a",
   "metadata": {},
   "outputs": [],
   "source": [
    "# ===============================\n",
    "# 9. Divisão treino/teste\n",
    "# ===============================\n",
    "X_train, X_test, y_train, y_test = train_test_split(\n",
    "    X, y, test_size=0.2, stratify=y, random_state=42\n",
    ")"
   ]
  },
  {
   "cell_type": "code",
   "execution_count": null,
   "id": "f51eeebd",
   "metadata": {},
   "outputs": [],
   "source": [
    "# ===============================\n",
    "# 10. Treinamento do modelo\n",
    "# ===============================\n",
    "modelo = RandomForestClassifier(n_estimators=100, random_state=42)\n",
    "modelo.fit(X_train, y_train)"
   ]
  },
  {
   "cell_type": "code",
   "execution_count": 31,
   "id": "cf41feea",
   "metadata": {},
   "outputs": [
    {
     "ename": "NameError",
     "evalue": "name 'modelo' is not defined",
     "output_type": "error",
     "traceback": [
      "\u001b[31m---------------------------------------------------------------------------\u001b[39m",
      "\u001b[31mNameError\u001b[39m                                 Traceback (most recent call last)",
      "\u001b[36mCell\u001b[39m\u001b[36m \u001b[39m\u001b[32mIn[31]\u001b[39m\u001b[32m, line 4\u001b[39m\n\u001b[32m      1\u001b[39m \u001b[38;5;66;03m# ===============================\u001b[39;00m\n\u001b[32m      2\u001b[39m \u001b[38;5;66;03m# 11. Avaliação do modelo\u001b[39;00m\n\u001b[32m      3\u001b[39m \u001b[38;5;66;03m# ===============================\u001b[39;00m\n\u001b[32m----> \u001b[39m\u001b[32m4\u001b[39m y_pred = \u001b[43mmodelo\u001b[49m.predict(X_test)\n\u001b[32m      6\u001b[39m \u001b[38;5;28mprint\u001b[39m(\u001b[33m\"\u001b[39m\u001b[33mMatriz de Confusão:\u001b[39m\u001b[33m\"\u001b[39m)\n\u001b[32m      7\u001b[39m \u001b[38;5;28mprint\u001b[39m(confusion_matrix(y_test, y_pred))\n",
      "\u001b[31mNameError\u001b[39m: name 'modelo' is not defined"
     ]
    }
   ],
   "source": [
    "# ===============================\n",
    "# 11. Avaliação do modelo\n",
    "# ===============================\n",
    "y_pred = modelo.predict(X_test)\n",
    "\n",
    "print(\"Matriz de Confusão:\")\n",
    "print(confusion_matrix(y_test, y_pred))\n",
    "\n",
    "print(\"\\nRelatório de Classificação:\")\n",
    "print(classification_report(y_test, y_pred, target_names=label_map.keys()))"
   ]
  },
  {
   "cell_type": "code",
   "execution_count": null,
   "id": "9925c803",
   "metadata": {},
   "outputs": [],
   "source": [
    "# ===============================\n",
    "# 12. Visualização da matriz\n",
    "# ===============================\n",
    "conf_matrix = confusion_matrix(y_test, y_pred)\n",
    "\n",
    "plt.figure(figsize=(8, 6))\n",
    "sns.heatmap(conf_matrix, annot=True, fmt='d', cmap='Blues',\n",
    "            xticklabels=label_map.keys(), yticklabels=label_map.keys())\n",
    "plt.title('Matriz de Confusão - Classificação de Urgência')\n",
    "plt.xlabel('Predito')\n",
    "plt.ylabel('Real')\n",
    "plt.tight_layout()\n",
    "plt.show()"
   ]
  }
 ],
 "metadata": {
  "kernelspec": {
   "display_name": "venv",
   "language": "python",
   "name": "python3"
  },
  "language_info": {
   "codemirror_mode": {
    "name": "ipython",
    "version": 3
   },
   "file_extension": ".py",
   "mimetype": "text/x-python",
   "name": "python",
   "nbconvert_exporter": "python",
   "pygments_lexer": "ipython3",
   "version": "3.11.4"
  }
 },
 "nbformat": 4,
 "nbformat_minor": 5
}
